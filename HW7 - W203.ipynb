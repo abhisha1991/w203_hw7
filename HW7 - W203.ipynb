{
 "cells": [
  {
   "cell_type": "markdown",
   "metadata": {},
   "source": [
    "# HW 7 - W203"
   ]
  },
  {
   "cell_type": "markdown",
   "metadata": {},
   "source": [
    "## Abhi Sharma - abhisha@berkeley.edu"
   ]
  },
  {
   "cell_type": "code",
   "execution_count": 1,
   "metadata": {},
   "outputs": [
    {
     "data": {
      "text/html": [
       "<table>\n",
       "<thead><tr><th scope=col>age</th><th scope=col>soph</th><th scope=col>junior</th><th scope=col>senior</th><th scope=col>senior5</th><th scope=col>male</th><th scope=col>campus</th><th scope=col>business</th><th scope=col>engineer</th><th scope=col>colGPA</th><th scope=col>...</th><th scope=col>greek</th><th scope=col>car</th><th scope=col>siblings</th><th scope=col>bgfriend</th><th scope=col>clubs</th><th scope=col>skipped</th><th scope=col>alcohol</th><th scope=col>gradMI</th><th scope=col>fathcoll</th><th scope=col>mothcoll</th></tr></thead>\n",
       "<tbody>\n",
       "\t<tr><td>21 </td><td>0  </td><td>0  </td><td>1  </td><td>0  </td><td>0  </td><td>0  </td><td>1  </td><td>0  </td><td>3.0</td><td>...</td><td>0  </td><td>1  </td><td>1  </td><td>0  </td><td>0  </td><td>2  </td><td>1.0</td><td>1  </td><td>0  </td><td>0  </td></tr>\n",
       "\t<tr><td>21 </td><td>0  </td><td>0  </td><td>1  </td><td>0  </td><td>0  </td><td>0  </td><td>1  </td><td>0  </td><td>3.4</td><td>...</td><td>0  </td><td>1  </td><td>0  </td><td>1  </td><td>1  </td><td>0  </td><td>1.0</td><td>1  </td><td>1  </td><td>1  </td></tr>\n",
       "\t<tr><td>20 </td><td>0  </td><td>1  </td><td>0  </td><td>0  </td><td>0  </td><td>0  </td><td>1  </td><td>0  </td><td>3.0</td><td>...</td><td>0  </td><td>1  </td><td>1  </td><td>0  </td><td>1  </td><td>0  </td><td>1.0</td><td>1  </td><td>1  </td><td>1  </td></tr>\n",
       "\t<tr><td>19 </td><td>1  </td><td>0  </td><td>0  </td><td>0  </td><td>1  </td><td>1  </td><td>1  </td><td>0  </td><td>3.5</td><td>...</td><td>0  </td><td>0  </td><td>1  </td><td>0  </td><td>0  </td><td>0  </td><td>0.0</td><td>0  </td><td>0  </td><td>0  </td></tr>\n",
       "\t<tr><td>20 </td><td>0  </td><td>1  </td><td>0  </td><td>0  </td><td>0  </td><td>0  </td><td>1  </td><td>0  </td><td>3.6</td><td>...</td><td>0  </td><td>1  </td><td>1  </td><td>1  </td><td>0  </td><td>0  </td><td>1.5</td><td>1  </td><td>1  </td><td>0  </td></tr>\n",
       "\t<tr><td>20 </td><td>0  </td><td>0  </td><td>1  </td><td>0  </td><td>1  </td><td>1  </td><td>1  </td><td>0  </td><td>3.0</td><td>...</td><td>0  </td><td>1  </td><td>1  </td><td>0  </td><td>0  </td><td>0  </td><td>0.0</td><td>0  </td><td>1  </td><td>0  </td></tr>\n",
       "</tbody>\n",
       "</table>\n"
      ],
      "text/latex": [
       "\\begin{tabular}{r|lllllllllllllllllllllllllllll}\n",
       " age & soph & junior & senior & senior5 & male & campus & business & engineer & colGPA & ... & greek & car & siblings & bgfriend & clubs & skipped & alcohol & gradMI & fathcoll & mothcoll\\\\\n",
       "\\hline\n",
       "\t 21  & 0   & 0   & 1   & 0   & 0   & 0   & 1   & 0   & 3.0 & ... & 0   & 1   & 1   & 0   & 0   & 2   & 1.0 & 1   & 0   & 0  \\\\\n",
       "\t 21  & 0   & 0   & 1   & 0   & 0   & 0   & 1   & 0   & 3.4 & ... & 0   & 1   & 0   & 1   & 1   & 0   & 1.0 & 1   & 1   & 1  \\\\\n",
       "\t 20  & 0   & 1   & 0   & 0   & 0   & 0   & 1   & 0   & 3.0 & ... & 0   & 1   & 1   & 0   & 1   & 0   & 1.0 & 1   & 1   & 1  \\\\\n",
       "\t 19  & 1   & 0   & 0   & 0   & 1   & 1   & 1   & 0   & 3.5 & ... & 0   & 0   & 1   & 0   & 0   & 0   & 0.0 & 0   & 0   & 0  \\\\\n",
       "\t 20  & 0   & 1   & 0   & 0   & 0   & 0   & 1   & 0   & 3.6 & ... & 0   & 1   & 1   & 1   & 0   & 0   & 1.5 & 1   & 1   & 0  \\\\\n",
       "\t 20  & 0   & 0   & 1   & 0   & 1   & 1   & 1   & 0   & 3.0 & ... & 0   & 1   & 1   & 0   & 0   & 0   & 0.0 & 0   & 1   & 0  \\\\\n",
       "\\end{tabular}\n"
      ],
      "text/markdown": [
       "\n",
       "| age | soph | junior | senior | senior5 | male | campus | business | engineer | colGPA | ... | greek | car | siblings | bgfriend | clubs | skipped | alcohol | gradMI | fathcoll | mothcoll |\n",
       "|---|---|---|---|---|---|---|---|---|---|---|---|---|---|---|---|---|---|---|---|---|\n",
       "| 21  | 0   | 0   | 1   | 0   | 0   | 0   | 1   | 0   | 3.0 | ... | 0   | 1   | 1   | 0   | 0   | 2   | 1.0 | 1   | 0   | 0   |\n",
       "| 21  | 0   | 0   | 1   | 0   | 0   | 0   | 1   | 0   | 3.4 | ... | 0   | 1   | 0   | 1   | 1   | 0   | 1.0 | 1   | 1   | 1   |\n",
       "| 20  | 0   | 1   | 0   | 0   | 0   | 0   | 1   | 0   | 3.0 | ... | 0   | 1   | 1   | 0   | 1   | 0   | 1.0 | 1   | 1   | 1   |\n",
       "| 19  | 1   | 0   | 0   | 0   | 1   | 1   | 1   | 0   | 3.5 | ... | 0   | 0   | 1   | 0   | 0   | 0   | 0.0 | 0   | 0   | 0   |\n",
       "| 20  | 0   | 1   | 0   | 0   | 0   | 0   | 1   | 0   | 3.6 | ... | 0   | 1   | 1   | 1   | 0   | 0   | 1.5 | 1   | 1   | 0   |\n",
       "| 20  | 0   | 0   | 1   | 0   | 1   | 1   | 1   | 0   | 3.0 | ... | 0   | 1   | 1   | 0   | 0   | 0   | 0.0 | 0   | 1   | 0   |\n",
       "\n"
      ],
      "text/plain": [
       "  age soph junior senior senior5 male campus business engineer colGPA ... greek\n",
       "1 21  0    0      1      0       0    0      1        0        3.0    ... 0    \n",
       "2 21  0    0      1      0       0    0      1        0        3.4    ... 0    \n",
       "3 20  0    1      0      0       0    0      1        0        3.0    ... 0    \n",
       "4 19  1    0      0      0       1    1      1        0        3.5    ... 0    \n",
       "5 20  0    1      0      0       0    0      1        0        3.6    ... 0    \n",
       "6 20  0    0      1      0       1    1      1        0        3.0    ... 0    \n",
       "  car siblings bgfriend clubs skipped alcohol gradMI fathcoll mothcoll\n",
       "1 1   1        0        0     2       1.0     1      0        0       \n",
       "2 1   0        1        1     0       1.0     1      1        1       \n",
       "3 1   1        0        1     0       1.0     1      1        1       \n",
       "4 0   1        0        0     0       0.0     0      0        0       \n",
       "5 1   1        1        0     0       1.5     1      1        0       \n",
       "6 1   1        0        0     0       0.0     0      1        0       "
      ]
     },
     "metadata": {},
     "output_type": "display_data"
    }
   ],
   "source": [
    "wd = getwd()\n",
    "data = get(load(paste(wd, \"/\", \"gpa1.RData\", sep=\"\")))\n",
    "head(data)\n",
    "# https://rdrr.io/cran/wooldridge/man/gpa1.html"
   ]
  },
  {
   "cell_type": "markdown",
   "metadata": {},
   "source": [
    "#### The skipped variable represents the average number of lectures each respondent skips per week. You are interested in testing whether MSU students skip over 1 lecture per week on the average."
   ]
  },
  {
   "cell_type": "code",
   "execution_count": 2,
   "metadata": {},
   "outputs": [
    {
     "data": {
      "text/html": [
       "<ol class=list-inline>\n",
       "\t<li>2</li>\n",
       "\t<li>0</li>\n",
       "\t<li>3</li>\n",
       "\t<li>0.5</li>\n",
       "\t<li>1</li>\n",
       "\t<li>4</li>\n",
       "\t<li>5</li>\n",
       "\t<li>0.25</li>\n",
       "</ol>\n"
      ],
      "text/latex": [
       "\\begin{enumerate*}\n",
       "\\item 2\n",
       "\\item 0\n",
       "\\item 3\n",
       "\\item 0.5\n",
       "\\item 1\n",
       "\\item 4\n",
       "\\item 5\n",
       "\\item 0.25\n",
       "\\end{enumerate*}\n"
      ],
      "text/markdown": [
       "1. 2\n",
       "2. 0\n",
       "3. 3\n",
       "4. 0.5\n",
       "5. 1\n",
       "6. 4\n",
       "7. 5\n",
       "8. 0.25\n",
       "\n",
       "\n"
      ],
      "text/plain": [
       "[1] 2.00 0.00 3.00 0.50 1.00 4.00 5.00 0.25"
      ]
     },
     "metadata": {},
     "output_type": "display_data"
    }
   ],
   "source": [
    "unique(data$skipped)"
   ]
  },
  {
   "cell_type": "code",
   "execution_count": 3,
   "metadata": {},
   "outputs": [
    {
     "data": {
      "text/plain": [
       "   Min. 1st Qu.  Median    Mean 3rd Qu.    Max. \n",
       "  0.000   0.000   1.000   1.076   2.000   5.000 "
      ]
     },
     "metadata": {},
     "output_type": "display_data"
    }
   ],
   "source": [
    "summary(data$skipped)"
   ]
  },
  {
   "cell_type": "code",
   "execution_count": 4,
   "metadata": {},
   "outputs": [
    {
     "data": {
      "text/html": [
       "141"
      ],
      "text/latex": [
       "141"
      ],
      "text/markdown": [
       "141"
      ],
      "text/plain": [
       "[1] 141"
      ]
     },
     "metadata": {},
     "output_type": "display_data"
    }
   ],
   "source": [
    "nrow(data)"
   ]
  },
  {
   "cell_type": "code",
   "execution_count": 5,
   "metadata": {},
   "outputs": [
    {
     "data": {
      "text/html": [
       "1.07624113475177"
      ],
      "text/latex": [
       "1.07624113475177"
      ],
      "text/markdown": [
       "1.07624113475177"
      ],
      "text/plain": [
       "[1] 1.076241"
      ]
     },
     "metadata": {},
     "output_type": "display_data"
    }
   ],
   "source": [
    "mean_skipped = mean(data$skipped)\n",
    "mean_skipped"
   ]
  },
  {
   "cell_type": "code",
   "execution_count": 6,
   "metadata": {},
   "outputs": [
    {
     "data": {
      "text/html": [
       "0.0917003920095331"
      ],
      "text/latex": [
       "0.0917003920095331"
      ],
      "text/markdown": [
       "0.0917003920095331"
      ],
      "text/plain": [
       "[1] 0.09170039"
      ]
     },
     "metadata": {},
     "output_type": "display_data"
    }
   ],
   "source": [
    "sd_skipped = (sd(data$skipped) / sqrt(nrow(data)))\n",
    "sd_skipped"
   ]
  },
  {
   "cell_type": "markdown",
   "metadata": {},
   "source": [
    "### The Hypothesis is set up as follows\n",
    "#### Ho: Mu_Skipped = 1\n",
    "#### Ha: Mu_Skipped != 1"
   ]
  },
  {
   "cell_type": "markdown",
   "metadata": {},
   "source": [
    "#### Examine the skipped variable and argue whether or not a t-test is valid for this scenario."
   ]
  },
  {
   "cell_type": "code",
   "execution_count": 7,
   "metadata": {},
   "outputs": [
    {
     "data": {
      "image/png": "[encoded data removed]",
      "text/plain": [
       "Plot with title \"Histogram of skipped variable\""
      ]
     },
     "metadata": {},
     "output_type": "display_data"
    }
   ],
   "source": [
    "hist(data$skipped, main = \"Histogram of skipped variable\", xlab= \"Skipped\")"
   ]
  },
  {
   "cell_type": "markdown",
   "metadata": {},
   "source": [
    "#### Notes"
   ]
  },
  {
   "cell_type": "markdown",
   "metadata": {},
   "source": [
    "**ASSUMPTION OF NORMALITY** <br/>\n",
    "1. Here we are taking our variable under consideration as avg(Skipped). <br/>\n",
    "2. We know from central limit theorem that regardless of the distribution of a variable (as seen above), its average follows a normal distribution. <br/>\n",
    "3. So mu_skipped follows a normal distribution with mean = 1.076 and sd = 0.091 <br/>\n",
    "4. Degrees of freedom = 141-1 = 140 - dof is > 40, so t-test approximates normal distribution<br/><br/>\n",
    "\n",
    "**ASSUMPTION OF IID** <br/>\n",
    "1. We can assume the students to be selected at random from the same population (MSU students)<br/> \n",
    "2. There is no evidence on the internet that contradicts this / provides the method on how students were selected. <br/>\n",
    "3. We can assume students to be selected independently - one student selected should have no bearing on another student being selected.<br/>\n",
    "4. We can assume 141 students chosen is less than 5% of total population of MSU. Hence, even if students were selected without replacement, the student population is indentically distributed <br/>\n",
    "\n",
    "**Hence, we CAN apply the t-test on mu_skipped**\n"
   ]
  },
  {
   "cell_type": "markdown",
   "metadata": {},
   "source": [
    "#### How would your answer to part a change if Mr. Lemmon selected dormitory rooms at random, then interviewed all occupants in the rooms he selected?"
   ]
  },
  {
   "cell_type": "markdown",
   "metadata": {},
   "source": [
    "We encounter the problem of clustering when sampling if we select candidates using the above technique. It is likely that students who belong to the same dorm will have certain characteristics in common (like times when they wake up for class) - which will jointly influence their skipped scores. <br/>\n",
    "\n",
    "If a dorm room consists of 5 students, and 3 wake up late for class (and end up skipping X number of classes per week) - it is likely that the other 2 students' \"skipped\" values will be affected by the 3 late risers. <br/>\n",
    "\n",
    "**Hence, we CANNOT apply the t-test anymore**\n"
   ]
  },
  {
   "cell_type": "markdown",
   "metadata": {},
   "source": [
    "#### Provide an argument for why you should choose a 2-tailed test in this instance, even if you are hoping to demonstrate that MSU students skip more than 1 lecture per week."
   ]
  },
  {
   "cell_type": "markdown",
   "metadata": {},
   "source": [
    "This is because with a 1 tail test, we are given a more lenient criteria to reject the null. <br/>\n",
    "This is because the rejection region has effectively doubled in a 1 tail test (alpha at the tail), compared to a 2 tail test (alpha / 2 at the tail). <br/>\n",
    "This allows for the test not to be \"rigorous\" enough because the same p value obtained would have failed a 2 tail test. <br/>\n"
   ]
  },
  {
   "cell_type": "markdown",
   "metadata": {},
   "source": [
    "#### Conduct the t-test using the t.test function and interpret every component of the results."
   ]
  },
  {
   "cell_type": "code",
   "execution_count": 8,
   "metadata": {},
   "outputs": [
    {
     "data": {
      "text/plain": [
       "\n",
       "\tOne Sample t-test\n",
       "\n",
       "data:  data$skipped\n",
       "t = 0.83142, df = 140, p-value = 0.4072\n",
       "alternative hypothesis: true mean is not equal to 1\n",
       "95 percent confidence interval:\n",
       " 0.8949445 1.2575377\n",
       "sample estimates:\n",
       "mean of x \n",
       " 1.076241 \n"
      ]
     },
     "metadata": {},
     "output_type": "display_data"
    }
   ],
   "source": [
    "t.test(data$skipped, mu=1)"
   ]
  },
  {
   "cell_type": "markdown",
   "metadata": {},
   "source": [
    "#### Notes"
   ]
  },
  {
   "cell_type": "markdown",
   "metadata": {},
   "source": [
    "1. We performed t test on the skipped variable. <br/>\n",
    "2. We notice the mean is the same as what we observed above in our manual calculation. <br/>\n",
    "3. Alternative hypothesis states that mu != 1, which represents a 2 tail test. <br/>\n",
    "4. t statistic is 0.83142, which matches what we compute in the next question. <br/>\n",
    "5. There is a 95% chance that the many simulations of the intervals contain the true population mean. <br/>\n",
    "6. The df is 140, which is n-1 for a t test.<br/>\n",
    "7. The p value is large (for an alpha of 0.05), which means we fail to reject Ho at 0.05 level of significance. <br/>\n",
    "8. t is 1 0.83 std deviations away from the std mean of 0.<br/>\n",
    "\n",
    "**In conclusion, we fail to reject Ho at 5% level of significance, which means Ho (mean = 1) prevails as the existing hypothesis** \n",
    "\n"
   ]
  },
  {
   "cell_type": "markdown",
   "metadata": {},
   "source": [
    "#### Show how you would compute the t-statistic and p-value manually (without using t.test), using the pt function in R."
   ]
  },
  {
   "cell_type": "code",
   "execution_count": 9,
   "metadata": {},
   "outputs": [
    {
     "data": {
      "text/html": [
       "0.831415581558769"
      ],
      "text/latex": [
       "0.831415581558769"
      ],
      "text/markdown": [
       "0.831415581558769"
      ],
      "text/plain": [
       "[1] 0.8314156"
      ]
     },
     "metadata": {},
     "output_type": "display_data"
    }
   ],
   "source": [
    "# we can calculate t manually as well\n",
    "t = (mean_skipped-1)/sd_skipped\n",
    "t"
   ]
  },
  {
   "cell_type": "code",
   "execution_count": 10,
   "metadata": {},
   "outputs": [
    {
     "data": {
      "text/html": [
       "0.407154692135781"
      ],
      "text/latex": [
       "0.407154692135781"
      ],
      "text/markdown": [
       "0.407154692135781"
      ],
      "text/plain": [
       "[1] 0.4071547"
      ]
     },
     "metadata": {},
     "output_type": "display_data"
    }
   ],
   "source": [
    "# below is the calculation of p value.\n",
    "# note that we multiply the tail regions by 2 because we do a 2 tail test\n",
    "# the pt function finds upper tail area (note that lower.tail=FALSE)\n",
    "# then we multiply that upper tail area by 2\n",
    "2*(pt(q = t, df = nrow(data)-1, lower.tail = FALSE))"
   ]
  },
  {
   "cell_type": "markdown",
   "metadata": {},
   "source": [
    "#### Construct a 99% confidence interval for the mean number classes skipped by MSU students in a week."
   ]
  },
  {
   "cell_type": "code",
   "execution_count": 11,
   "metadata": {},
   "outputs": [
    {
     "data": {
      "text/html": [
       "<span style=white-space:pre-wrap>'lower:  0.836774482444529 , upper:  1.31570778705902'</span>"
      ],
      "text/latex": [
       "'lower:  0.836774482444529 , upper:  1.31570778705902'"
      ],
      "text/markdown": [
       "<span style=white-space:pre-wrap>'lower:  0.836774482444529 , upper:  1.31570778705902'</span>"
      ],
      "text/plain": [
       "[1] \"lower:  0.836774482444529 , upper:  1.31570778705902\""
      ]
     },
     "metadata": {},
     "output_type": "display_data"
    }
   ],
   "source": [
    "# http://seankross.com/notes/dpqr/\n",
    "# we are doing a 2 tail test, so we need to consider half of (1-0.99) as the area in 1 tail\n",
    "q = (1 - 0.99) / 2\n",
    "z = qt(q, df = nrow(data)-1, lower.tail = TRUE)\n",
    "lower = mean_skipped - abs(z)*sd_skipped\n",
    "upper = mean_skipped + abs(z)*sd_skipped\n",
    "paste(\"lower: \", lower, \",\", \"upper: \", upper)"
   ]
  },
  {
   "cell_type": "markdown",
   "metadata": {},
   "source": [
    "#### Can you say that there is a 99% chance the population mean falls inside your confidence interval?"
   ]
  },
  {
   "cell_type": "markdown",
   "metadata": {},
   "source": [
    "No, we cannot say that because this interval was calculated with 1 sample of 141 observations. <br/>\n",
    "In the long run if we take 10,000 (say) sets of 141 samples each, and construct an interval for each of those 10,000 sets, then 99% of those intervals will contain the true population mean for skipped variable - that is the meaning of confidence interval"
   ]
  },
  {
   "cell_type": "code",
   "execution_count": null,
   "metadata": {},
   "outputs": [],
   "source": []
  }
 ],
 "metadata": {
  "kernelspec": {
   "display_name": "R",
   "language": "R",
   "name": "ir"
  },
  "language_info": {
   "codemirror_mode": "r",
   "file_extension": ".r",
   "mimetype": "text/x-r-source",
   "name": "R",
   "pygments_lexer": "r",
   "version": "3.6.1"
  }
 },
 "nbformat": 4,
 "nbformat_minor": 4
}
